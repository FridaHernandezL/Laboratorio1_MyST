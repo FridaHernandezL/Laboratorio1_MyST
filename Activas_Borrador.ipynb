{
 "cells": [
  {
   "cell_type": "code",
   "execution_count": 1,
   "metadata": {},
   "outputs": [],
   "source": [
    "import pandas as pd\n",
    "import numpy as np \n",
    "import matplotlib.pyplot as plt\n",
    "import yfinance as yf\n",
    "import glob"
   ]
  },
  {
   "cell_type": "markdown",
   "metadata": {},
   "source": [
    "Se tomará el mismo escenario que en la inversión pasiva, es decir, tomar los activos que tiene el NAFTRAC, el ETF de BlackRock que buscar replicar los resultados del S&P/BMV IPC. Y, la forma de plantear una estrategia de Inversión Activa, será considerando lo siguiente:\n",
    "\n",
    "* Utiliza los activos para los cuales tienes su precio para todo el periodo 31-01-2020 a 29-07-2022\n",
    "* Utiliza como base sólo los activos incluidos en la ponderación inicial del NAFTRAC en el 31-01-2020 y no utilices cualquier otro activo que se agregue al ETF en fechas posteriores.\n",
    "* Cuando elimines activos por no contar con precios para todo el periodo necesario, contabiliza en CASH el capital que hayan tenido asignado por su ponderación en NAFTRAC.\n",
    "* Con el capital que NO ES CASH, construye un portafolio eficiente, maximizando el sharpe estándar, empezando desde el  31-01-2021 y utilizando los rendimientos logartimicos diarios hasta el 31-01-2020\n",
    "* A partir del siguiente mes inmediato al 29-07-2022, rebalancea, con los precios diarios, utilizando la siguiente regla:\n",
    "* Disminuir en un 2.5% la posición en títulos de aquellos activos cuyo precio disminuyó un 5% o más\n",
    "* Aumentar en un 2.5% la posición en títulos de aquellos activos cuyo precio aumentó un 5% o más\n",
    "* Considera pagar las mismas comisiones por rebalanceo para cada cambio de posición con cada activo según aplique\n",
    "* El orden de recompra será aquél activo con mayor crecimiento el día inmediato anterior"
   ]
  },
  {
   "cell_type": "code",
   "execution_count": 6,
   "metadata": {},
   "outputs": [
    {
     "ename": "SyntaxError",
     "evalue": "(unicode error) 'unicodeescape' codec can't decode bytes in position 2-3: truncated \\UXXXXXXXX escape (<ipython-input-6-71fe8107a74f>, line 2)",
     "output_type": "error",
     "traceback": [
      "\u001b[1;36m  File \u001b[1;32m\"<ipython-input-6-71fe8107a74f>\"\u001b[1;36m, line \u001b[1;32m2\u001b[0m\n\u001b[1;33m    sys.path.append(\"C:\\Users\\frida\\Desktop\\ITESO\\9NO SEMESTRE\\Microestructuras de Trading\\Laboratorio 1\\Laboratorio1_MyST\\Pasiva_Borrador\")\u001b[0m\n\u001b[1;37m                    ^\u001b[0m\n\u001b[1;31mSyntaxError\u001b[0m\u001b[1;31m:\u001b[0m (unicode error) 'unicodeescape' codec can't decode bytes in position 2-3: truncated \\UXXXXXXXX escape\n"
     ]
    }
   ],
   "source": [
    "import sys\n",
    "sys.path.append(\"C:\\Users\\frida\\Desktop\\ITESO\\9NO SEMESTRE\\Microestructuras de Trading\\Laboratorio 1\\Laboratorio1_MyST\\Pasiva_Borrador\")\n",
    "import Pasiva_Borrador as PB\n",
    "print(PB.data)"
   ]
  },
  {
   "cell_type": "code",
   "execution_count": null,
   "metadata": {},
   "outputs": [],
   "source": []
  }
 ],
 "metadata": {
  "kernelspec": {
   "display_name": "Python 3",
   "language": "python",
   "name": "python3"
  },
  "language_info": {
   "codemirror_mode": {
    "name": "ipython",
    "version": 3
   },
   "file_extension": ".py",
   "mimetype": "text/x-python",
   "name": "python",
   "nbconvert_exporter": "python",
   "pygments_lexer": "ipython3",
   "version": "3.8.3"
  }
 },
 "nbformat": 4,
 "nbformat_minor": 4
}
