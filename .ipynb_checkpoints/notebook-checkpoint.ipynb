{
 "cells": [
  {
   "cell_type": "markdown",
   "metadata": {},
   "source": [
    "<center> <img style=\"float:center ; margin: 0px 0px 15px 15px;\" src=\"https://upload.wikimedia.org/wikipedia/commons/8/84/LogodelITESO.jpg\" height=\"100px\" />"
   ]
  },
  {
   "cell_type": "markdown",
   "metadata": {},
   "source": [
    "<center><font color=#555555><font size=6> MAF1731 - Microstructure and Trading Systems </font> <br> <br>\n",
    "    \n",
    "<center><font color=#555555><font size=5> B.Eng Financial Engineering </font> <br> <br> <br> <br>\n",
    "\n",
    "<center><font color=#555555><font size=6> I.F. Frida María Hernández López </font> <br> <br>\n",
    "   \n",
    "<center> <font color= #555555> <font size = 4> Septiembre 2022 </a> | <font color= #555555> <font size = 4> Repository: <a href='https://github.com/FridaHernandezL/Laboratorio1_MyST'>Link</a></font>"
   ]
  },
  {
   "cell_type": "markdown",
   "metadata": {},
   "source": [
    "<hr style=\"border:0.02in solid gray\"> </hr>"
   ]
  },
  {
   "cell_type": "markdown",
   "metadata": {},
   "source": [
    "<center> <font color= #555555> <font size = 6> Lab 1 </font> <br> <br> <font color= #555555> <font size = 5> Inversión a Capitales  </font>"
   ]
  },
  {
   "cell_type": "markdown",
   "metadata": {},
   "source": [
    "<hr style=\"border:0.02in solid gray\"> </hr>"
   ]
  },
  {
   "cell_type": "markdown",
   "metadata": {},
   "source": [
    "<br>"
   ]
  },
  {
   "cell_type": "markdown",
   "metadata": {},
   "source": [
    "<font color= #555555> <font size = 4> Abstract </font>"
   ]
  },
  {
   "cell_type": "markdown",
   "metadata": {},
   "source": [
    "<font color= #6B6B6B> Con el propósito de poder responder la pregunta *¿Qué estrategia de inversión propondrías si tu trabajo fuera invertir 1 Millón de pesos?*\n",
    "\n",
    "Se tiene el siguiente **caso**: \n",
    "    \n",
    "Tienes 1 Millón de pesos, tienes dos opciones para invertirlos. Por un lado, puedes hacer una <span style=\"color:green\">*Inversión Pasiva del capital*</span>, comprando el 100% del capital de títulos de un ETF que replica al mercado de renta variable mexicano S&P/BMV IPC que es el NAFTRAC. Pero por otro lado, puedes hacer una <span style=\"color:green\">*Inversión Activa del capital*</span>, al crear un portafolio que tenga los mismos activos que el ETF y haciendo el rebalanceo por medio de un algoritmo en específico.\n",
    "    \n",
    "En el siguiente documento se hizo uso de herramientas financieras como *yahoo finance* para descargar precios historicos de ciertos activos y con los mismos crear dos estrategias distintas, una **inversión activa** y una **inversión pasiva**.\n",
    "    \n",
    "La inversión pasiva, realizada primero, consistió en crear un portafolio con precios reales manteniendo siempre los mismos pesos para cada activo considerado así como la misma cantidad de titulos, para al final observar el comportamiento y rendimiento que generaría duramte un periodo de 2 años.\n",
    "    \n",
    "Por el contrario la inversión activa, se llevo a cabo despues de el analisis de precios de un periodo de un año, en donde se obtuvieron los pesos ideales para cada activo y los titulos del primer mes, posterior a eso en el segundo año, mensualmente se hicieron compras y ventas de titulos según el comportamiento de cada activo. Incluyendo a cada una de las inversiones un calculo final del radio de sharpe.\n",
    "    \n",
    "El laboratorio concluyó en que la inversión activa generó un rendimiento mayor por una diferencia de<span style=\"color:green\"> 267,384.46 MXN </span>lo cual es alrededor del 25% de la inversión inicial, sin embargo el radio de sharpe para la inversión activa siempre fue un poco mayor."
   ]
  },
  {
   "cell_type": "markdown",
   "metadata": {},
   "source": [
    "<br>"
   ]
  },
  {
   "cell_type": "markdown",
   "metadata": {},
   "source": [
    "# <font color= #6B6B6B> <font size = 6> 1. Introduction </font>"
   ]
  },
  {
   "cell_type": "markdown",
   "metadata": {},
   "source": [
    "<hr style=\"border:0.02in solid gray\"> </hr>"
   ]
  },
  {
   "cell_type": "markdown",
   "metadata": {},
   "source": [
    "Durante el desarrollo de este laboratorio se analizaron y pusieron en comparativa dos tipos de inversión.\n",
    "\n",
    "La primera siendo la pasiva es el enfoque de inversión a largo plazo con el objetivo de crear riqueza gradualmente a lo largo del tiempo. Al minimizar la compra y venta de valores, la inversión pasiva aumenta las ganancias a largo plazo por el ahorro de costos.\n",
    "\n",
    "La activa no sigue los movimientos del mercado de valores, sino que compra y vende acciones cuyo valor pueda subir o bajar en un futuro cercano para generar ganancias. Implica mover constantemente las inversiones, por lo cual tiene un riesgo más alto que la inversión pasiva.\n",
    "\n",
    "Dado lo anterior se realizó un portafolio sencillo para inversión pasiva en un periodo de dos años, y por otro lado se analizó el mercado de un año y se aplicaron los resultados de dicho analisis al año siguiente, optimizando los porcentajes capital puestos en cada accion.\n",
    "\n",
    "Al lo largo de este documento se encontrarán explicaciones de las herramientas y analisis utilizados así como también resultados obtenidos y una breve interpretación.\n",
    "\n",
    "Todos los codigos están en archivos importados como 'main', 'data' y 'functions', aqui solo se mostrarán resultados y variables importantes."
   ]
  },
  {
   "cell_type": "markdown",
   "metadata": {},
   "source": [
    "<br>"
   ]
  },
  {
   "cell_type": "markdown",
   "metadata": {},
   "source": [
    "# <font color= #6B6B6B> 2. Install/Load Packages and Depedencies </font>"
   ]
  },
  {
   "cell_type": "markdown",
   "metadata": {},
   "source": [
    "<hr style=\"border:0.02in solid gray\"> </hr>"
   ]
  },
  {
   "cell_type": "markdown",
   "metadata": {},
   "source": [
    "<br>"
   ]
  },
  {
   "cell_type": "code",
   "execution_count": 1,
   "metadata": {},
   "outputs": [],
   "source": [
    "import pandas as pd\n",
    "import numpy as np \n",
    "import matplotlib.pyplot as plt\n",
    "import yfinance as yf\n",
    "import glob\n",
    "import os\n",
    "from scipy.optimize import minimize\n",
    "import locale\n",
    "locale.setlocale( locale.LC_ALL, '' )\n",
    "import functions as fn\n",
    "import main as mn\n",
    "import data as dta"
   ]
  },
  {
   "cell_type": "markdown",
   "metadata": {},
   "source": [
    "## <font color= #6B6B6B> 2.2 Python Packages </font> <font color= #555555>"
   ]
  },
  {
   "cell_type": "markdown",
   "metadata": {},
   "source": [
    "In order to run this notebook, it is necessary to have installed and/or have the _requirements.txt_ file with the following: "
   ]
  },
  {
   "cell_type": "markdown",
   "metadata": {},
   "source": [
    "- pandas>=1.1.1 \n",
    "- numpy>=1.19.1\n",
    "- jupyter>=1.0.0\n",
    "- **And all of the above**"
   ]
  },
  {
   "cell_type": "markdown",
   "metadata": {},
   "source": [
    "## <font color= #6B6B6B> 2.3 Files Dependencies </font> <font color= #555555>"
   ]
  },
  {
   "cell_type": "markdown",
   "metadata": {},
   "source": [
    "The following are the file dependencies that are needed to run this notebook:"
   ]
  },
  {
   "cell_type": "markdown",
   "metadata": {},
   "source": [
    "- files/precios.csv : Precios históricos\n",
    "- created_files/closing_prices.csv : Datos históricos guardados en un csv para evitar la sobrecarga de la computadora alc importar muchas veces de yahoofinance"
   ]
  },
  {
   "cell_type": "markdown",
   "metadata": {},
   "source": [
    "## <font color= #6E6E6E> 2.3 Install Packages</font>"
   ]
  },
  {
   "cell_type": "code",
   "execution_count": 2,
   "metadata": {},
   "outputs": [],
   "source": [
    "%%capture\n",
    "\n",
    "# Install all the pip packages in the requirements.txt\n",
    "import sys\n",
    "!{sys.executable} -m pip install -r requirements.txt"
   ]
  },
  {
   "cell_type": "markdown",
   "metadata": {},
   "source": [
    "<br>"
   ]
  },
  {
   "cell_type": "markdown",
   "metadata": {},
   "source": [
    "# <font color= #6B6B6B> 3. Data Description </font>"
   ]
  },
  {
   "cell_type": "markdown",
   "metadata": {},
   "source": [
    "<hr style=\"border:0.02in solid gray\"> </hr>"
   ]
  },
  {
   "cell_type": "markdown",
   "metadata": {},
   "source": [
    "Se trabajó con una 31 archivos *'.csv'*, cada uno representando el último día registrado del mes desde enero 2020 hasta julio 2022 que desde un inicio al leer todos los cvs se concatenaron verticalmente en un solo archivo.\n",
    "\n",
    "Cada csv está originalmente compuesto por al rededor de 35 filas (dependiento que activos incluya) y 16 columnas:\n",
    "> * Ticker  - Simbolos de cada activo\n",
    "> * Nombre - Nombre de cada activo\n",
    "> * Clase de activo - Equity\n",
    "> * Peso - El peso que originalmente le da NAFTRAC\n",
    "> * Precio - El precio de cada activo ese dia\n",
    "> * Acciones - Cantidad de acciones por activo\n",
    "> * Valor de mercado \n",
    "> * Valor nominal\n",
    "> * Sector - Sector al que pertenece cada activo\n",
    "> * ISIN\n",
    "> * Bolsa de valores - Todos pertenecientes a la BMV\n",
    "> * Ubicación México - MXN\n",
    "> * Tipo de mercado - MXN\n",
    "> * Tipo de cambio\n",
    "\n",
    "Al hacer la importación de datos se filtraron las columnas y se leyeron unicamente las siguientes:"
   ]
  },
  {
   "cell_type": "code",
   "execution_count": 3,
   "metadata": {
    "scrolled": true
   },
   "outputs": [
    {
     "data": {
      "text/plain": [
       "Index(['Ticker', 'Peso (%)', 'Precio', 'Acciones'], dtype='object')"
      ]
     },
     "execution_count": 3,
     "metadata": {},
     "output_type": "execute_result"
    }
   ],
   "source": [
    "mn.data.columns"
   ]
  },
  {
   "cell_type": "markdown",
   "metadata": {},
   "source": [
    "Como se mencionó anteriormente no todos los archivos tenian los mismos activos, por lo tanto y para fines academicos de este laboratorio, se filtraron unicamente los activos que estabán presentes en todos los 31 meses.\n",
    "\n",
    "Durante todo el transcurso del laboratorio se contemplaron los siguientes Tickers:"
   ]
  },
  {
   "cell_type": "code",
   "execution_count": 4,
   "metadata": {},
   "outputs": [
    {
     "data": {
      "text/plain": [
       "\"['AC.MX', 'ALFAA.MX', 'ALSEA.MX', 'AMXL.MX', 'ASURB.MX', 'BBAJIOO.MX', 'BIMBOA.MX', 'BOLSAA.MX', 'CEMEXCPO.MX', 'CUERVO.MX', 'ELEKTRA.MX', 'FEMSAUBD.MX', 'GAPB.MX', 'GCARSOA1.MX', 'GFINBURO.MX', 'GFNORTEO.MX', 'GMEXICOB.MX', 'GRUMAB.MX', 'KIMBERA.MX', 'KOFUBL.MX', 'LABB.MX', 'LIVEPOLC-1.MX', 'MEGACPO.MX', 'OMAB.MX', 'ORBIA.MX', 'PE&OLES.MX', 'PINFRA.MX', 'TLEVISACPO.MX', 'WALMEX.MX']\""
      ]
     },
     "execution_count": 4,
     "metadata": {},
     "output_type": "execute_result"
    }
   ],
   "source": [
    "str(mn.tickers)"
   ]
  },
  {
   "cell_type": "markdown",
   "metadata": {},
   "source": [
    "En la misma función que en la que se hizo el filtrado de tickers, se hizo también una limpieza de los mismos para que sus símbolos fueran compatibles con la plataforma *YahooFinance*. En dicha limpieza, se eliminaron símbolos extraños como 'asteriscos', así como también se agregó '.MX', todo esto para facilitar y optimizar el laboratorio"
   ]
  },
  {
   "cell_type": "markdown",
   "metadata": {},
   "source": [
    "<br>"
   ]
  },
  {
   "cell_type": "markdown",
   "metadata": {},
   "source": [
    "# <font color= #6B6B6B> 4. A particular Process  </font>"
   ]
  },
  {
   "cell_type": "markdown",
   "metadata": {},
   "source": [
    "<hr style=\"border:0.02in solid gray\"> </hr>"
   ]
  },
  {
   "cell_type": "markdown",
   "metadata": {},
   "source": [
    "Personalmente, un proceso que me pareció relevante en este proceso; fuera de los ya obvios códigos para obtener Radio de Sharpe, Portafolios eficientes, Pesos, Capitales y Títulos, fué el mencionado justo anteriormente, los detalles de limpieza de datos antes de la implementación de un código ppara cualquier fin, son escenciales para un trabajo con la menor cantidad de problemas posibles, evitan el retrabajo y la carga computacional. Ademas de que en lo personal los encuentro relajantes "
   ]
  },
  {
   "cell_type": "code",
   "execution_count": 5,
   "metadata": {},
   "outputs": [
    {
     "data": {
      "text/plain": [
       "\"['AC*' 'ALFAA' 'ALPEKA' 'ALSEA*' 'AMXL' 'ASURB' 'BBAJIOO' 'BIMBOA'\\n 'BOLSAA' 'BSMXB' 'CEMEXCPO' 'CUERVO*' 'ELEKTRA*' 'FEMSAUBD' 'GAPB'\\n 'GCARSOA1' 'GCC*' 'GENTERA*' 'GFINBURO' 'GFNORTEO' 'GMEXICOB' 'GRUMAB'\\n 'IENOVA*' 'KIMBERA' 'KOFUBL' 'LABB' 'LIVEPOLC.1' 'MEGACPO' 'MXN' 'OMAB'\\n 'ORBIA*' 'PE&OLES*' 'PINFRA*' 'RA' 'TLEVISACPO' 'WALMEX*']\""
      ]
     },
     "execution_count": 5,
     "metadata": {},
     "output_type": "execute_result"
    }
   ],
   "source": [
    "str(fn.data.iloc[0:36,0].values)"
   ]
  },
  {
   "cell_type": "markdown",
   "metadata": {},
   "source": [
    "Como se puede obeservar en comparacion entre la lista de simbolos de los activos finales (línea 4) y la lista de simbolos de activos sucios para el primer mes, se editaron nombres y se les dió el mismo formato"
   ]
  },
  {
   "cell_type": "markdown",
   "metadata": {},
   "source": [
    "<br>"
   ]
  },
  {
   "cell_type": "markdown",
   "metadata": {},
   "source": [
    "# <font color= #6B6B6B> 5. Another particular Process  </font>"
   ]
  },
  {
   "cell_type": "markdown",
   "metadata": {},
   "source": [
    "<hr style=\"border:0.02in solid gray\"> </hr>"
   ]
  },
  {
   "cell_type": "markdown",
   "metadata": {},
   "source": [
    "Una vez más, alejandome de los procesos evidentemente relevantes para la realización de este documento académico, la visualización gráfica de los datos que se trabajan, me parece muy importante para no perder la lógica de lo que se hace y sobre todo de lo que se puede concluir al final de este laboratorio, si bien los datos nos muestran muchas caracteristicas y comportamientos relevantes, el apoyo de gráficos me parece sumamente enriquecedor durante la realización de una optimización de portafolio, para la observación de rendimientos"
   ]
  },
  {
   "cell_type": "markdown",
   "metadata": {},
   "source": [
    "<br>"
   ]
  },
  {
   "cell_type": "markdown",
   "metadata": {},
   "source": [
    "# <font color= #6B6B6B> <font size = 6> 5. Results </font>"
   ]
  },
  {
   "cell_type": "markdown",
   "metadata": {},
   "source": [
    "<hr style=\"border:0.02in solid gray\"> </hr>"
   ]
  },
  {
   "cell_type": "markdown",
   "metadata": {},
   "source": [
    "El objetivo de este laboratorio era poner en comparativa la inversión Pasiva con la Activa. Siendo la pasiva un proceso en el que se mantuvieron los pesos por default de NAFTRAC y unicamente se cambiaron los precios por los precios históricos, en cambio en la inversión activa se construyó un portafolio eficiente maximizando el radio de sharpe, para el primer año, calculando los pesos óptimos obtenidos desde las medias y volatilidad de precios, para posteriormente, en el segundo año, ir comprando o vendiendo titulos de acciones dependiendo de su cambio en precio.\n",
    "\n",
    "Dado lo anterior el resultado que yo tenia como esperado era que la diferencia entre Pasiva y Activa en cuestión de rendimientos y Sharpe fuera evidentemente favorecedor para la Inversión de tipo activa, sin embargo se obtuvo lo siguiente:"
   ]
  },
  {
   "cell_type": "code",
   "execution_count": 6,
   "metadata": {},
   "outputs": [
    {
     "data": {
      "text/html": [
       "<div>\n",
       "<style scoped>\n",
       "    .dataframe tbody tr th:only-of-type {\n",
       "        vertical-align: middle;\n",
       "    }\n",
       "\n",
       "    .dataframe tbody tr th {\n",
       "        vertical-align: top;\n",
       "    }\n",
       "\n",
       "    .dataframe thead th {\n",
       "        text-align: right;\n",
       "    }\n",
       "</style>\n",
       "<table border=\"1\" class=\"dataframe\">\n",
       "  <thead>\n",
       "    <tr style=\"text-align: right;\">\n",
       "      <th></th>\n",
       "      <th>Medida</th>\n",
       "      <th>Descripcion</th>\n",
       "      <th>Inv_Pasiva</th>\n",
       "      <th>Inv_Activa</th>\n",
       "    </tr>\n",
       "  </thead>\n",
       "  <tbody>\n",
       "    <tr>\n",
       "      <th>0</th>\n",
       "      <td>rend_m</td>\n",
       "      <td>Rendimiento Promedio Mensual</td>\n",
       "      <td>0.360414</td>\n",
       "      <td>1.795651</td>\n",
       "    </tr>\n",
       "    <tr>\n",
       "      <th>1</th>\n",
       "      <td>rend_c</td>\n",
       "      <td>Rendimiento Promedio Acumulado</td>\n",
       "      <td>2.444363</td>\n",
       "      <td>17.806479</td>\n",
       "    </tr>\n",
       "    <tr>\n",
       "      <th>2</th>\n",
       "      <td>sharpe</td>\n",
       "      <td>Radio de Sharpe</td>\n",
       "      <td>4.603333</td>\n",
       "      <td>3.609464</td>\n",
       "    </tr>\n",
       "  </tbody>\n",
       "</table>\n",
       "</div>"
      ],
      "text/plain": [
       "   Medida                     Descripcion Inv_Pasiva Inv_Activa\n",
       "0  rend_m    Rendimiento Promedio Mensual   0.360414   1.795651\n",
       "1  rend_c  Rendimiento Promedio Acumulado   2.444363  17.806479\n",
       "2  sharpe                 Radio de Sharpe   4.603333   3.609464"
      ]
     },
     "execution_count": 6,
     "metadata": {},
     "output_type": "execute_result"
    }
   ],
   "source": [
    "mn.df_medidas"
   ]
  },
  {
   "cell_type": "markdown",
   "metadata": {},
   "source": [
    "La inversión pasiva, si bien no es óptima o muy rentable, muestra un mejor resultado que la inversión activa que resultó en pérdida, con una diferencia en el radio de sharpe de:"
   ]
  },
  {
   "cell_type": "code",
   "execution_count": 7,
   "metadata": {},
   "outputs": [
    {
     "data": {
      "text/plain": [
       "0.9938690616955421"
      ]
     },
     "execution_count": 7,
     "metadata": {},
     "output_type": "execute_result"
    }
   ],
   "source": [
    "mn.df_medidas.iloc[2,2]-mn.df_medidas.iloc[2,3]"
   ]
  },
  {
   "cell_type": "markdown",
   "metadata": {},
   "source": [
    "<br>"
   ]
  },
  {
   "cell_type": "markdown",
   "metadata": {},
   "source": [
    "## <font color= #6B6B6B> 5.1 Results of first processes. Pasive Investment</font>"
   ]
  },
  {
   "cell_type": "markdown",
   "metadata": {},
   "source": [
    "Analizando la inversión pasiva paso por paso ya se explicó que los primeros pasos fueron importar los datos, concatenarlos, seleccionar unicamente las columnas que nos interesaban así como tambien hacer lo mismo con los tickers haciendo una limpieza y filtrado de los mismos.\n",
    "\n",
    "Procedí despues a importar datos historicos de los tickers finales en las fechas en las que había cvs's, esta información se guardo en un csv llamado closing_prices.csv ya que así disminuí la carga computacional al no tener que *correr* la linea cada que entraba a editar el documento."
   ]
  },
  {
   "cell_type": "code",
   "execution_count": 8,
   "metadata": {},
   "outputs": [
    {
     "data": {
      "image/png": "[encoded data removed]",
      "text/plain": [
       "<Figure size 1440x648 with 1 Axes>"
      ]
     },
     "metadata": {
      "needs_background": "light"
     },
     "output_type": "display_data"
    }
   ],
   "source": [
    "def prices_timeseries(data):\n",
    "    plt.figure(figsize=(20,9)) \n",
    "    for i in data.columns.values:\n",
    "        plt.plot( data[i],  label=i)\n",
    "    plt.title('Prices')\n",
    "    plt.xlabel('Dates',fontsize=18)\n",
    "    plt.ylabel('Prices MXN',fontsize=18)\n",
    "    plt.legend(data.columns.values, loc='best')\n",
    "pasiva_ts=prices_timeseries(dta.prices1)"
   ]
  },
  {
   "cell_type": "markdown",
   "metadata": {},
   "source": [
    "En el plot anterior podemos observar el comportamiento de los activos a lo largo del tiempo que nos interesa (2020-jul 2022)"
   ]
  },
  {
   "cell_type": "markdown",
   "metadata": {},
   "source": [
    "Recordemos que antes de empezar con la inversión, se eliminaron algunos activos y por lo tanto sus pesos, el cash resultante de esto, es decir las ponderaciones de los tickers no considerados x el capital fue la siguiente:"
   ]
  },
  {
   "cell_type": "code",
   "execution_count": 9,
   "metadata": {},
   "outputs": [
    {
     "data": {
      "text/plain": [
       "'$43,900.00'"
      ]
     },
     "execution_count": 9,
     "metadata": {},
     "output_type": "execute_result"
    }
   ],
   "source": [
    "locale.currency(mn.cash, grouping=True )"
   ]
  },
  {
   "cell_type": "markdown",
   "metadata": {},
   "source": [
    "### Postura Inicial\n",
    "\n",
    "Tenemos ahora la postura inicial (Enero, 2020) del portafolio compuesta por una columna de simbolos de las acciones, los pesos originales, el precio obtenido de los historicos anteriormente descargados en el mes enero 2020, la postura se calculó como el peso por el capital inicial, en este caso 1'000,000.00 MXN, es decir la postura es lo que se tiene invertido en cada activo, y por último los títulos son el cálculo resultante de la postura entre el precio. \n",
    "\n",
    "La postura se modificó posterior al cálculo de titulos para obtener la postura considerando ya las comisiones por operaciones existentes solo en este mes ya que se compraron los activos y se *dejaron*. El calculo de las comisiones consideradas como el 0.00125 del valor de la operación que yo consideré como titulos x precio"
   ]
  },
  {
   "cell_type": "code",
   "execution_count": 10,
   "metadata": {
    "scrolled": true
   },
   "outputs": [
    {
     "data": {
      "text/html": [
       "<div>\n",
       "<style scoped>\n",
       "    .dataframe tbody tr th:only-of-type {\n",
       "        vertical-align: middle;\n",
       "    }\n",
       "\n",
       "    .dataframe tbody tr th {\n",
       "        vertical-align: top;\n",
       "    }\n",
       "\n",
       "    .dataframe thead th {\n",
       "        text-align: right;\n",
       "    }\n",
       "</style>\n",
       "<table border=\"1\" class=\"dataframe\">\n",
       "  <thead>\n",
       "    <tr style=\"text-align: right;\">\n",
       "      <th></th>\n",
       "      <th>Ticker</th>\n",
       "      <th>Peso (%)</th>\n",
       "      <th>Precio</th>\n",
       "      <th>Postura</th>\n",
       "      <th>Titulos</th>\n",
       "    </tr>\n",
       "  </thead>\n",
       "  <tbody>\n",
       "    <tr>\n",
       "      <th>0</th>\n",
       "      <td>AC.MX</td>\n",
       "      <td>1.77</td>\n",
       "      <td>107.120003</td>\n",
       "      <td>17677.906499</td>\n",
       "      <td>165.0</td>\n",
       "    </tr>\n",
       "    <tr>\n",
       "      <th>1</th>\n",
       "      <td>ALFAA.MX</td>\n",
       "      <td>1.51</td>\n",
       "      <td>14.190000</td>\n",
       "      <td>15081.127301</td>\n",
       "      <td>1064.0</td>\n",
       "    </tr>\n",
       "    <tr>\n",
       "      <th>2</th>\n",
       "      <td>ALSEA.MX</td>\n",
       "      <td>0.86</td>\n",
       "      <td>45.825001</td>\n",
       "      <td>8589.231125</td>\n",
       "      <td>188.0</td>\n",
       "    </tr>\n",
       "    <tr>\n",
       "      <th>3</th>\n",
       "      <td>AMXL.MX</td>\n",
       "      <td>13.70</td>\n",
       "      <td>15.695000</td>\n",
       "      <td>136828.747935</td>\n",
       "      <td>8729.0</td>\n",
       "    </tr>\n",
       "    <tr>\n",
       "      <th>4</th>\n",
       "      <td>ASURB.MX</td>\n",
       "      <td>2.75</td>\n",
       "      <td>363.149994</td>\n",
       "      <td>27465.500751</td>\n",
       "      <td>76.0</td>\n",
       "    </tr>\n",
       "    <tr>\n",
       "      <th>5</th>\n",
       "      <td>BBAJIOO.MX</td>\n",
       "      <td>0.83</td>\n",
       "      <td>31.205000</td>\n",
       "      <td>8289.624338</td>\n",
       "      <td>266.0</td>\n",
       "    </tr>\n",
       "    <tr>\n",
       "      <th>6</th>\n",
       "      <td>BIMBOA.MX</td>\n",
       "      <td>1.87</td>\n",
       "      <td>33.805000</td>\n",
       "      <td>18676.632294</td>\n",
       "      <td>553.0</td>\n",
       "    </tr>\n",
       "    <tr>\n",
       "      <th>7</th>\n",
       "      <td>BOLSAA.MX</td>\n",
       "      <td>0.72</td>\n",
       "      <td>43.439999</td>\n",
       "      <td>7190.986200</td>\n",
       "      <td>166.0</td>\n",
       "    </tr>\n",
       "    <tr>\n",
       "      <th>8</th>\n",
       "      <td>CEMEXCPO.MX</td>\n",
       "      <td>4.30</td>\n",
       "      <td>7.595000</td>\n",
       "      <td>42946.246389</td>\n",
       "      <td>5662.0</td>\n",
       "    </tr>\n",
       "    <tr>\n",
       "      <th>9</th>\n",
       "      <td>CUERVO.MX</td>\n",
       "      <td>0.67</td>\n",
       "      <td>34.900002</td>\n",
       "      <td>6691.624000</td>\n",
       "      <td>192.0</td>\n",
       "    </tr>\n",
       "    <tr>\n",
       "      <th>10</th>\n",
       "      <td>ELEKTRA.MX</td>\n",
       "      <td>3.02</td>\n",
       "      <td>1382.750000</td>\n",
       "      <td>30161.974375</td>\n",
       "      <td>22.0</td>\n",
       "    </tr>\n",
       "    <tr>\n",
       "      <th>11</th>\n",
       "      <td>FEMSAUBD.MX</td>\n",
       "      <td>11.85</td>\n",
       "      <td>170.255005</td>\n",
       "      <td>118351.878146</td>\n",
       "      <td>696.0</td>\n",
       "    </tr>\n",
       "    <tr>\n",
       "      <th>12</th>\n",
       "      <td>GAPB.MX</td>\n",
       "      <td>3.29</td>\n",
       "      <td>233.854996</td>\n",
       "      <td>32858.783057</td>\n",
       "      <td>141.0</td>\n",
       "    </tr>\n",
       "    <tr>\n",
       "      <th>13</th>\n",
       "      <td>GCARSOA1.MX</td>\n",
       "      <td>1.16</td>\n",
       "      <td>67.980003</td>\n",
       "      <td>11585.469274</td>\n",
       "      <td>171.0</td>\n",
       "    </tr>\n",
       "    <tr>\n",
       "      <th>14</th>\n",
       "      <td>GFINBURO.MX</td>\n",
       "      <td>1.76</td>\n",
       "      <td>21.424999</td>\n",
       "      <td>17578.012595</td>\n",
       "      <td>821.0</td>\n",
       "    </tr>\n",
       "    <tr>\n",
       "      <th>15</th>\n",
       "      <td>GFNORTEO.MX</td>\n",
       "      <td>10.64</td>\n",
       "      <td>116.129997</td>\n",
       "      <td>106267.031153</td>\n",
       "      <td>916.0</td>\n",
       "    </tr>\n",
       "    <tr>\n",
       "      <th>16</th>\n",
       "      <td>GMEXICOB.MX</td>\n",
       "      <td>6.03</td>\n",
       "      <td>50.215000</td>\n",
       "      <td>60224.614731</td>\n",
       "      <td>1201.0</td>\n",
       "    </tr>\n",
       "    <tr>\n",
       "      <th>17</th>\n",
       "      <td>GRUMAB.MX</td>\n",
       "      <td>1.68</td>\n",
       "      <td>200.794998</td>\n",
       "      <td>16778.916525</td>\n",
       "      <td>84.0</td>\n",
       "    </tr>\n",
       "    <tr>\n",
       "      <th>18</th>\n",
       "      <td>KIMBERA.MX</td>\n",
       "      <td>2.06</td>\n",
       "      <td>39.060001</td>\n",
       "      <td>20574.269224</td>\n",
       "      <td>527.0</td>\n",
       "    </tr>\n",
       "    <tr>\n",
       "      <th>19</th>\n",
       "      <td>KOFUBL.MX</td>\n",
       "      <td>2.26</td>\n",
       "      <td>115.180000</td>\n",
       "      <td>22571.780900</td>\n",
       "      <td>196.0</td>\n",
       "    </tr>\n",
       "    <tr>\n",
       "      <th>20</th>\n",
       "      <td>LABB.MX</td>\n",
       "      <td>0.62</td>\n",
       "      <td>22.350000</td>\n",
       "      <td>6192.261312</td>\n",
       "      <td>277.0</td>\n",
       "    </tr>\n",
       "    <tr>\n",
       "      <th>21</th>\n",
       "      <td>LIVEPOLC-1.MX</td>\n",
       "      <td>0.74</td>\n",
       "      <td>99.714996</td>\n",
       "      <td>7390.776363</td>\n",
       "      <td>74.0</td>\n",
       "    </tr>\n",
       "    <tr>\n",
       "      <th>22</th>\n",
       "      <td>MEGACPO.MX</td>\n",
       "      <td>0.79</td>\n",
       "      <td>70.680000</td>\n",
       "      <td>7890.104800</td>\n",
       "      <td>112.0</td>\n",
       "    </tr>\n",
       "    <tr>\n",
       "      <th>23</th>\n",
       "      <td>MXN=X</td>\n",
       "      <td>0.27</td>\n",
       "      <td>18.780800</td>\n",
       "      <td>2696.619456</td>\n",
       "      <td>144.0</td>\n",
       "    </tr>\n",
       "    <tr>\n",
       "      <th>24</th>\n",
       "      <td>OMAB.MX</td>\n",
       "      <td>1.85</td>\n",
       "      <td>143.755005</td>\n",
       "      <td>18476.819505</td>\n",
       "      <td>129.0</td>\n",
       "    </tr>\n",
       "    <tr>\n",
       "      <th>25</th>\n",
       "      <td>ORBIA.MX</td>\n",
       "      <td>1.67</td>\n",
       "      <td>44.410000</td>\n",
       "      <td>16679.127300</td>\n",
       "      <td>376.0</td>\n",
       "    </tr>\n",
       "    <tr>\n",
       "      <th>26</th>\n",
       "      <td>PE&amp;OLES.MX</td>\n",
       "      <td>0.91</td>\n",
       "      <td>197.339996</td>\n",
       "      <td>9088.652950</td>\n",
       "      <td>46.0</td>\n",
       "    </tr>\n",
       "    <tr>\n",
       "      <th>27</th>\n",
       "      <td>PINFRA.MX</td>\n",
       "      <td>1.68</td>\n",
       "      <td>204.115005</td>\n",
       "      <td>16779.078212</td>\n",
       "      <td>82.0</td>\n",
       "    </tr>\n",
       "    <tr>\n",
       "      <th>28</th>\n",
       "      <td>TLEVISACPO.MX</td>\n",
       "      <td>3.96</td>\n",
       "      <td>41.965000</td>\n",
       "      <td>39550.481300</td>\n",
       "      <td>944.0</td>\n",
       "    </tr>\n",
       "    <tr>\n",
       "      <th>29</th>\n",
       "      <td>WALMEX.MX</td>\n",
       "      <td>10.39</td>\n",
       "      <td>55.220001</td>\n",
       "      <td>103770.094947</td>\n",
       "      <td>1882.0</td>\n",
       "    </tr>\n",
       "  </tbody>\n",
       "</table>\n",
       "</div>"
      ],
      "text/plain": [
       "           Ticker  Peso (%)       Precio        Postura  Titulos\n",
       "0           AC.MX      1.77   107.120003   17677.906499    165.0\n",
       "1        ALFAA.MX      1.51    14.190000   15081.127301   1064.0\n",
       "2        ALSEA.MX      0.86    45.825001    8589.231125    188.0\n",
       "3         AMXL.MX     13.70    15.695000  136828.747935   8729.0\n",
       "4        ASURB.MX      2.75   363.149994   27465.500751     76.0\n",
       "5      BBAJIOO.MX      0.83    31.205000    8289.624338    266.0\n",
       "6       BIMBOA.MX      1.87    33.805000   18676.632294    553.0\n",
       "7       BOLSAA.MX      0.72    43.439999    7190.986200    166.0\n",
       "8     CEMEXCPO.MX      4.30     7.595000   42946.246389   5662.0\n",
       "9       CUERVO.MX      0.67    34.900002    6691.624000    192.0\n",
       "10     ELEKTRA.MX      3.02  1382.750000   30161.974375     22.0\n",
       "11    FEMSAUBD.MX     11.85   170.255005  118351.878146    696.0\n",
       "12        GAPB.MX      3.29   233.854996   32858.783057    141.0\n",
       "13    GCARSOA1.MX      1.16    67.980003   11585.469274    171.0\n",
       "14    GFINBURO.MX      1.76    21.424999   17578.012595    821.0\n",
       "15    GFNORTEO.MX     10.64   116.129997  106267.031153    916.0\n",
       "16    GMEXICOB.MX      6.03    50.215000   60224.614731   1201.0\n",
       "17      GRUMAB.MX      1.68   200.794998   16778.916525     84.0\n",
       "18     KIMBERA.MX      2.06    39.060001   20574.269224    527.0\n",
       "19      KOFUBL.MX      2.26   115.180000   22571.780900    196.0\n",
       "20        LABB.MX      0.62    22.350000    6192.261312    277.0\n",
       "21  LIVEPOLC-1.MX      0.74    99.714996    7390.776363     74.0\n",
       "22     MEGACPO.MX      0.79    70.680000    7890.104800    112.0\n",
       "23          MXN=X      0.27    18.780800    2696.619456    144.0\n",
       "24        OMAB.MX      1.85   143.755005   18476.819505    129.0\n",
       "25       ORBIA.MX      1.67    44.410000   16679.127300    376.0\n",
       "26     PE&OLES.MX      0.91   197.339996    9088.652950     46.0\n",
       "27      PINFRA.MX      1.68   204.115005   16779.078212     82.0\n",
       "28  TLEVISACPO.MX      3.96    41.965000   39550.481300    944.0\n",
       "29      WALMEX.MX     10.39    55.220001  103770.094947   1882.0"
      ]
     },
     "execution_count": 10,
     "metadata": {},
     "output_type": "execute_result"
    }
   ],
   "source": [
    "dta.pin"
   ]
  },
  {
   "cell_type": "markdown",
   "metadata": {},
   "source": [
    "### Capital y rendimientos mensuales finales\n",
    "\n",
    "Una vez obtenida la postura inicial que nos brinda los titulos, proseguí al cálculo del capital que es resultante de la suma por mes de los titlos anteriormente obtenidos x los precios historicos. Rendimientos son el cambio porcentual del capital con la funcion *pct_change* y los rendimientos acumulados son la suma acumulada de la columna anterior"
   ]
  },
  {
   "cell_type": "code",
   "execution_count": 11,
   "metadata": {
    "scrolled": true
   },
   "outputs": [
    {
     "data": {
      "text/html": [
       "<div>\n",
       "<style scoped>\n",
       "    .dataframe tbody tr th:only-of-type {\n",
       "        vertical-align: middle;\n",
       "    }\n",
       "\n",
       "    .dataframe tbody tr th {\n",
       "        vertical-align: top;\n",
       "    }\n",
       "\n",
       "    .dataframe thead th {\n",
       "        text-align: right;\n",
       "    }\n",
       "</style>\n",
       "<table border=\"1\" class=\"dataframe\">\n",
       "  <thead>\n",
       "    <tr style=\"text-align: right;\">\n",
       "      <th></th>\n",
       "      <th>timestamp</th>\n",
       "      <th>capital</th>\n",
       "      <th>rend</th>\n",
       "      <th>rend_acum</th>\n",
       "    </tr>\n",
       "  </thead>\n",
       "  <tbody>\n",
       "    <tr>\n",
       "      <th>0</th>\n",
       "      <td>2020-01-31</td>\n",
       "      <td>956501.635434</td>\n",
       "      <td>-0.045477</td>\n",
       "      <td>-0.045477</td>\n",
       "    </tr>\n",
       "    <tr>\n",
       "      <th>1</th>\n",
       "      <td>2020-02-28</td>\n",
       "      <td>895252.154684</td>\n",
       "      <td>-0.064035</td>\n",
       "      <td>-0.109511</td>\n",
       "    </tr>\n",
       "    <tr>\n",
       "      <th>2</th>\n",
       "      <td>2020-03-31</td>\n",
       "      <td>755478.955673</td>\n",
       "      <td>-0.156127</td>\n",
       "      <td>-0.265639</td>\n",
       "    </tr>\n",
       "    <tr>\n",
       "      <th>3</th>\n",
       "      <td>2020-04-30</td>\n",
       "      <td>799311.002816</td>\n",
       "      <td>0.058019</td>\n",
       "      <td>-0.207620</td>\n",
       "    </tr>\n",
       "    <tr>\n",
       "      <th>4</th>\n",
       "      <td>2020-05-29</td>\n",
       "      <td>794603.265867</td>\n",
       "      <td>-0.005890</td>\n",
       "      <td>-0.213509</td>\n",
       "    </tr>\n",
       "    <tr>\n",
       "      <th>5</th>\n",
       "      <td>2020-06-30</td>\n",
       "      <td>828361.313332</td>\n",
       "      <td>0.042484</td>\n",
       "      <td>-0.171025</td>\n",
       "    </tr>\n",
       "    <tr>\n",
       "      <th>6</th>\n",
       "      <td>2020-07-31</td>\n",
       "      <td>814535.451972</td>\n",
       "      <td>-0.016691</td>\n",
       "      <td>-0.187716</td>\n",
       "    </tr>\n",
       "    <tr>\n",
       "      <th>7</th>\n",
       "      <td>2020-08-31</td>\n",
       "      <td>811644.680178</td>\n",
       "      <td>-0.003549</td>\n",
       "      <td>-0.191265</td>\n",
       "    </tr>\n",
       "    <tr>\n",
       "      <th>8</th>\n",
       "      <td>2020-09-30</td>\n",
       "      <td>824825.917123</td>\n",
       "      <td>0.016240</td>\n",
       "      <td>-0.175025</td>\n",
       "    </tr>\n",
       "    <tr>\n",
       "      <th>9</th>\n",
       "      <td>2020-10-30</td>\n",
       "      <td>813213.608453</td>\n",
       "      <td>-0.014078</td>\n",
       "      <td>-0.189103</td>\n",
       "    </tr>\n",
       "    <tr>\n",
       "      <th>10</th>\n",
       "      <td>2020-11-30</td>\n",
       "      <td>919817.881568</td>\n",
       "      <td>0.131090</td>\n",
       "      <td>-0.058013</td>\n",
       "    </tr>\n",
       "    <tr>\n",
       "      <th>11</th>\n",
       "      <td>2020-12-31</td>\n",
       "      <td>966168.904041</td>\n",
       "      <td>0.050392</td>\n",
       "      <td>-0.007622</td>\n",
       "    </tr>\n",
       "    <tr>\n",
       "      <th>12</th>\n",
       "      <td>2021-01-29</td>\n",
       "      <td>942104.317827</td>\n",
       "      <td>-0.024907</td>\n",
       "      <td>-0.032529</td>\n",
       "    </tr>\n",
       "    <tr>\n",
       "      <th>13</th>\n",
       "      <td>2021-02-26</td>\n",
       "      <td>978577.319718</td>\n",
       "      <td>0.038714</td>\n",
       "      <td>0.006186</td>\n",
       "    </tr>\n",
       "    <tr>\n",
       "      <th>14</th>\n",
       "      <td>2021-03-31</td>\n",
       "      <td>1036876.644723</td>\n",
       "      <td>0.059576</td>\n",
       "      <td>0.065761</td>\n",
       "    </tr>\n",
       "    <tr>\n",
       "      <th>15</th>\n",
       "      <td>2021-04-30</td>\n",
       "      <td>1053666.737572</td>\n",
       "      <td>0.016193</td>\n",
       "      <td>0.081954</td>\n",
       "    </tr>\n",
       "    <tr>\n",
       "      <th>16</th>\n",
       "      <td>2021-05-31</td>\n",
       "      <td>1119018.38097</td>\n",
       "      <td>0.062023</td>\n",
       "      <td>0.143977</td>\n",
       "    </tr>\n",
       "    <tr>\n",
       "      <th>17</th>\n",
       "      <td>2021-06-30</td>\n",
       "      <td>1106273.675623</td>\n",
       "      <td>-0.011389</td>\n",
       "      <td>0.132588</td>\n",
       "    </tr>\n",
       "    <tr>\n",
       "      <th>18</th>\n",
       "      <td>2021-07-30</td>\n",
       "      <td>1119091.38479</td>\n",
       "      <td>0.011586</td>\n",
       "      <td>0.144174</td>\n",
       "    </tr>\n",
       "    <tr>\n",
       "      <th>19</th>\n",
       "      <td>2021-08-31</td>\n",
       "      <td>1173837.393623</td>\n",
       "      <td>0.048920</td>\n",
       "      <td>0.193094</td>\n",
       "    </tr>\n",
       "    <tr>\n",
       "      <th>20</th>\n",
       "      <td>2021-09-30</td>\n",
       "      <td>1131678.212341</td>\n",
       "      <td>-0.035916</td>\n",
       "      <td>0.157179</td>\n",
       "    </tr>\n",
       "    <tr>\n",
       "      <th>21</th>\n",
       "      <td>2021-10-26</td>\n",
       "      <td>1152537.172865</td>\n",
       "      <td>0.018432</td>\n",
       "      <td>0.175611</td>\n",
       "    </tr>\n",
       "    <tr>\n",
       "      <th>22</th>\n",
       "      <td>2021-11-30</td>\n",
       "      <td>1098724.200758</td>\n",
       "      <td>-0.046691</td>\n",
       "      <td>0.128920</td>\n",
       "    </tr>\n",
       "    <tr>\n",
       "      <th>23</th>\n",
       "      <td>2021-12-31</td>\n",
       "      <td>1176081.939014</td>\n",
       "      <td>0.070407</td>\n",
       "      <td>0.199327</td>\n",
       "    </tr>\n",
       "    <tr>\n",
       "      <th>24</th>\n",
       "      <td>2022-01-26</td>\n",
       "      <td>1124876.056665</td>\n",
       "      <td>-0.043539</td>\n",
       "      <td>0.155787</td>\n",
       "    </tr>\n",
       "    <tr>\n",
       "      <th>25</th>\n",
       "      <td>2022-02-28</td>\n",
       "      <td>1178300.603153</td>\n",
       "      <td>0.047494</td>\n",
       "      <td>0.203281</td>\n",
       "    </tr>\n",
       "    <tr>\n",
       "      <th>26</th>\n",
       "      <td>2022-03-31</td>\n",
       "      <td>1248480.633162</td>\n",
       "      <td>0.059560</td>\n",
       "      <td>0.262841</td>\n",
       "    </tr>\n",
       "    <tr>\n",
       "      <th>27</th>\n",
       "      <td>2022-04-29</td>\n",
       "      <td>1134177.651661</td>\n",
       "      <td>-0.091554</td>\n",
       "      <td>0.171288</td>\n",
       "    </tr>\n",
       "    <tr>\n",
       "      <th>28</th>\n",
       "      <td>2022-05-31</td>\n",
       "      <td>1142292.344854</td>\n",
       "      <td>0.007155</td>\n",
       "      <td>0.178442</td>\n",
       "    </tr>\n",
       "    <tr>\n",
       "      <th>29</th>\n",
       "      <td>2022-06-30</td>\n",
       "      <td>1052308.187136</td>\n",
       "      <td>-0.078775</td>\n",
       "      <td>0.099667</td>\n",
       "    </tr>\n",
       "    <tr>\n",
       "      <th>30</th>\n",
       "      <td>2022-07-29</td>\n",
       "      <td>1065000.136267</td>\n",
       "      <td>0.012061</td>\n",
       "      <td>0.111728</td>\n",
       "    </tr>\n",
       "  </tbody>\n",
       "</table>\n",
       "</div>"
      ],
      "text/plain": [
       "     timestamp         capital      rend  rend_acum\n",
       "0   2020-01-31   956501.635434 -0.045477  -0.045477\n",
       "1   2020-02-28   895252.154684 -0.064035  -0.109511\n",
       "2   2020-03-31   755478.955673 -0.156127  -0.265639\n",
       "3   2020-04-30   799311.002816  0.058019  -0.207620\n",
       "4   2020-05-29   794603.265867 -0.005890  -0.213509\n",
       "5   2020-06-30   828361.313332  0.042484  -0.171025\n",
       "6   2020-07-31   814535.451972 -0.016691  -0.187716\n",
       "7   2020-08-31   811644.680178 -0.003549  -0.191265\n",
       "8   2020-09-30   824825.917123  0.016240  -0.175025\n",
       "9   2020-10-30   813213.608453 -0.014078  -0.189103\n",
       "10  2020-11-30   919817.881568  0.131090  -0.058013\n",
       "11  2020-12-31   966168.904041  0.050392  -0.007622\n",
       "12  2021-01-29   942104.317827 -0.024907  -0.032529\n",
       "13  2021-02-26   978577.319718  0.038714   0.006186\n",
       "14  2021-03-31  1036876.644723  0.059576   0.065761\n",
       "15  2021-04-30  1053666.737572  0.016193   0.081954\n",
       "16  2021-05-31   1119018.38097  0.062023   0.143977\n",
       "17  2021-06-30  1106273.675623 -0.011389   0.132588\n",
       "18  2021-07-30   1119091.38479  0.011586   0.144174\n",
       "19  2021-08-31  1173837.393623  0.048920   0.193094\n",
       "20  2021-09-30  1131678.212341 -0.035916   0.157179\n",
       "21  2021-10-26  1152537.172865  0.018432   0.175611\n",
       "22  2021-11-30  1098724.200758 -0.046691   0.128920\n",
       "23  2021-12-31  1176081.939014  0.070407   0.199327\n",
       "24  2022-01-26  1124876.056665 -0.043539   0.155787\n",
       "25  2022-02-28  1178300.603153  0.047494   0.203281\n",
       "26  2022-03-31  1248480.633162  0.059560   0.262841\n",
       "27  2022-04-29  1134177.651661 -0.091554   0.171288\n",
       "28  2022-05-31  1142292.344854  0.007155   0.178442\n",
       "29  2022-06-30  1052308.187136 -0.078775   0.099667\n",
       "30  2022-07-29  1065000.136267  0.012061   0.111728"
      ]
     },
     "execution_count": 11,
     "metadata": {},
     "output_type": "execute_result"
    }
   ],
   "source": [
    "dta.pasiva"
   ]
  },
  {
   "cell_type": "markdown",
   "metadata": {},
   "source": [
    "Al final se terminó con un cash de:"
   ]
  },
  {
   "cell_type": "code",
   "execution_count": 12,
   "metadata": {
    "scrolled": false
   },
   "outputs": [
    {
     "data": {
      "text/plain": [
       "'$1,065,000.14'"
      ]
     },
     "execution_count": 12,
     "metadata": {},
     "output_type": "execute_result"
    }
   ],
   "source": [
    "locale.currency(dta.pasiva.iloc[-1,1], grouping=True )"
   ]
  },
  {
   "cell_type": "markdown",
   "metadata": {},
   "source": [
    "A continuación algunos gráficos por columna de los datos anteriores, muestran como el capital del portafolio va subiendo en función del tiempo, a excepcion de algunas bajadas.\n",
    "\n",
    "El rendimeinto acumulado fue positivo a partir de febrero 2021 ya que en la grafica de rendimientos podemos observar que en marzo 2020 el valor del capital tuvo una fuerte caida, esto se puede atribuir a la situacion de pandemia en esa fecha, sin embargo para casi un año despues en febrero 2021 ya podemos observar una subida suficiente para darle rendimientos positivos al portafolio. Esto muesta la importancia de darle el tiempo suficiente a una inversión pasiva.\n",
    "\n",
    "Una inversión de este tipo requiere tiempo para mostrar rendimientos positivos en caso de caidas de precio. Si se hubiera hecho la inversión de solo 1 año no habria alcanzado a haber rendimientos como los hubo."
   ]
  },
  {
   "cell_type": "code",
   "execution_count": 13,
   "metadata": {},
   "outputs": [
    {
     "data": {
      "image/png": "[encoded data removed]",
      "text/plain": [
       "<Figure size 720x1440 with 3 Axes>"
      ]
     },
     "metadata": {
      "needs_background": "light"
     },
     "output_type": "display_data"
    }
   ],
   "source": [
    "def pasive_plot(dataframe):\n",
    "    dataframe.plot(kind = 'bar',\n",
    "                 width=0.8,\n",
    "                 subplots=True,\n",
    "                 figsize=(10,20),\n",
    "                   color=[\"#FF9B85\",\"#60D394\",\"#AAF683\"]);\n",
    "pasiva_suplot=pasive_plot(mn.pasivaplot)"
   ]
  },
  {
   "cell_type": "markdown",
   "metadata": {},
   "source": [
    "### Radio de Sharpe\n",
    "\n",
    "Recordemos que el Radio de Sharpe mide numéricamente la relación Rentabilidad / Volatilidad Histórica (desviación standard) de un Fondo de Inversión.\n",
    "\n",
    "Para el cálculo del Radio se Sharpe me apoyé de una metodología vista en semestres pasados. Especificamente la clase Portafolios de Inversión, 5to semestre. el cual utiliza varianza, volatilidad media, rendimientos medios y pesos. El anterior calculo dio como resultado un RS de:"
   ]
  },
  {
   "cell_type": "code",
   "execution_count": 14,
   "metadata": {},
   "outputs": [
    {
     "data": {
      "text/plain": [
       "4.60333304348255"
      ]
     },
     "execution_count": 14,
     "metadata": {},
     "output_type": "execute_result"
    }
   ],
   "source": [
    "dta.pasive_rs"
   ]
  },
  {
   "cell_type": "markdown",
   "metadata": {},
   "source": [
    "Calculandolo como (los rendimientos mensuales - tasa libre de riesgo considerada como 8.5% )/ volatilidad da un resultado de:"
   ]
  },
  {
   "cell_type": "code",
   "execution_count": 15,
   "metadata": {
    "scrolled": true
   },
   "outputs": [
    {
     "data": {
      "text/plain": [
       "-1.413292233589093"
      ]
     },
     "execution_count": 15,
     "metadata": {},
     "output_type": "execute_result"
    }
   ],
   "source": [
    "(dta.pasiva.iloc[:,2].mean()-0.085)/dta.pasiva.iloc[:,2].std()"
   ]
  },
  {
   "cell_type": "markdown",
   "metadata": {},
   "source": [
    "<br>"
   ]
  },
  {
   "cell_type": "markdown",
   "metadata": {},
   "source": [
    "## <font color= #6B6B6B> 5.2 Results of another proces. Active Investment </font>"
   ]
  },
  {
   "cell_type": "markdown",
   "metadata": {},
   "source": [
    "Pasando ahora a la inversión activa se tomaron en cuenta los mismos datos historicos a diferencia de que en este caso primero se hizo un portafolio eficiente maximizando sharpe con los precios historicos de enero 2020 - enero 2021. El anterior procedimiento se hizo con los conocimientos y códigos de una clase anterior, especificamente Portafolios de Inversión, cursada en 5to semestre."
   ]
  },
  {
   "cell_type": "markdown",
   "metadata": {},
   "source": [
    "Los pesos resultantes de dicho portafolio eficiente fueron los siguientes:"
   ]
  },
  {
   "cell_type": "code",
   "execution_count": 16,
   "metadata": {},
   "outputs": [
    {
     "data": {
      "text/plain": [
       "array([16.00622,  0.     ,  0.     , 20.4876 ,  0.     ,  0.     ,\n",
       "       18.94952, 15.08864,  0.     ,  0.     ,  2.96535,  0.     ,\n",
       "        0.     ,  0.     ,  0.     ,  0.     ,  0.     ,  4.05092,\n",
       "        0.     ,  0.     , 22.37912,  0.     ,  0.     ,  0.     ,\n",
       "        0.     ,  0.07263,  0.     ,  0.     ,  0.     ])"
      ]
     },
     "execution_count": 16,
     "metadata": {},
     "output_type": "execute_result"
    }
   ],
   "source": [
    "np.round(dta.w_emv,7)*100"
   ]
  },
  {
   "cell_type": "markdown",
   "metadata": {},
   "source": [
    "Así como también se obtuvo el radio de shape, con valor de:"
   ]
  },
  {
   "cell_type": "code",
   "execution_count": 17,
   "metadata": {},
   "outputs": [
    {
     "data": {
      "text/plain": [
       "0.9755326273822787"
      ]
     },
     "execution_count": 17,
     "metadata": {},
     "output_type": "execute_result"
    }
   ],
   "source": [
    "dta.rsmax"
   ]
  },
  {
   "cell_type": "markdown",
   "metadata": {},
   "source": [
    "Teniendo como resultado este radio de sharpe con los pesos anteriores, mi hipotesis era que la activa obtendría un mucho mayor rendimiento que la pasiva."
   ]
  },
  {
   "cell_type": "markdown",
   "metadata": {},
   "source": [
    "### Frontera de minima varianza\n",
    "\n",
    "Se realizó tambien el calculo de la frontera de minima varianza, con apoyo de los códigos de la clase anteriormente mencionada (para fines de claridad se mostrará unicamente el grafico, sin embargo dejo comentada la celda de el dataframe de dicha frontera), y se obtuvo lo siguiente:"
   ]
  },
  {
   "cell_type": "code",
   "execution_count": 18,
   "metadata": {
    "scrolled": true
   },
   "outputs": [],
   "source": [
    "#dta.frontera"
   ]
  },
  {
   "cell_type": "code",
   "execution_count": 19,
   "metadata": {
    "scrolled": true
   },
   "outputs": [
    {
     "data": {
      "image/png": "[encoded data removed]",
      "text/plain": [
       "<Figure size 432x288 with 2 Axes>"
      ]
     },
     "metadata": {
      "needs_background": "light"
     },
     "output_type": "display_data"
    }
   ],
   "source": [
    "def frontera_ef(frontera):\n",
    "    plt.figure(figsize=(6,4))\n",
    "    plt.scatter(frontera['Vol'],frontera['Media'],c=frontera['RS'],cmap='RdYlBu')\n",
    "    plt.grid()\n",
    "    plt.xlabel('Volatilidad $\\sigma$')\n",
    "    plt.ylabel('Rendimiento Esperado $E[r]$')\n",
    "    plt.colorbar()\n",
    "fronteraef=frontera_ef(dta.frontera)"
   ]
  },
  {
   "cell_type": "markdown",
   "metadata": {},
   "source": [
    "### Portafolio Eficiente\n",
    "\n",
    "Una vez obtenidos los pesos se construyó el dataframe mostrado a continuación el cual es el portafolio eficiente inicial, en donde tenbemos una columna de símbolos de las acciones, pesos con los pesos eficientes, postura la cual es el resultado de los pesos por el capital inicial 1´000,000 MXN, precio que son los precios historicos para enero 2021 en cada acción y los titulos que se calcularon como la postura entre el precio"
   ]
  },
  {
   "cell_type": "code",
   "execution_count": 20,
   "metadata": {
    "scrolled": true
   },
   "outputs": [
    {
     "data": {
      "text/html": [
       "<div>\n",
       "<style scoped>\n",
       "    .dataframe tbody tr th:only-of-type {\n",
       "        vertical-align: middle;\n",
       "    }\n",
       "\n",
       "    .dataframe tbody tr th {\n",
       "        vertical-align: top;\n",
       "    }\n",
       "\n",
       "    .dataframe thead th {\n",
       "        text-align: right;\n",
       "    }\n",
       "</style>\n",
       "<table border=\"1\" class=\"dataframe\">\n",
       "  <thead>\n",
       "    <tr style=\"text-align: right;\">\n",
       "      <th></th>\n",
       "      <th>index</th>\n",
       "      <th>Pesos%</th>\n",
       "      <th>Postura</th>\n",
       "      <th>Precio</th>\n",
       "      <th>Titulos</th>\n",
       "    </tr>\n",
       "  </thead>\n",
       "  <tbody>\n",
       "    <tr>\n",
       "      <th>0</th>\n",
       "      <td>AC.MX</td>\n",
       "      <td>1.600622e+01</td>\n",
       "      <td>1.600622e+05</td>\n",
       "      <td>93.070000</td>\n",
       "      <td>1720.0</td>\n",
       "    </tr>\n",
       "    <tr>\n",
       "      <th>1</th>\n",
       "      <td>ALFAA.MX</td>\n",
       "      <td>0.000000e+00</td>\n",
       "      <td>0.000000e+00</td>\n",
       "      <td>12.900000</td>\n",
       "      <td>0.0</td>\n",
       "    </tr>\n",
       "    <tr>\n",
       "      <th>2</th>\n",
       "      <td>ALSEA.MX</td>\n",
       "      <td>0.000000e+00</td>\n",
       "      <td>0.000000e+00</td>\n",
       "      <td>23.110001</td>\n",
       "      <td>0.0</td>\n",
       "    </tr>\n",
       "    <tr>\n",
       "      <th>3</th>\n",
       "      <td>AMXL.MX</td>\n",
       "      <td>2.048760e+01</td>\n",
       "      <td>2.048760e+05</td>\n",
       "      <td>13.670000</td>\n",
       "      <td>14987.0</td>\n",
       "    </tr>\n",
       "    <tr>\n",
       "      <th>4</th>\n",
       "      <td>ASURB.MX</td>\n",
       "      <td>3.319315e-11</td>\n",
       "      <td>3.319315e-07</td>\n",
       "      <td>322.529999</td>\n",
       "      <td>0.0</td>\n",
       "    </tr>\n",
       "    <tr>\n",
       "      <th>5</th>\n",
       "      <td>BBAJIOO.MX</td>\n",
       "      <td>0.000000e+00</td>\n",
       "      <td>0.000000e+00</td>\n",
       "      <td>24.760000</td>\n",
       "      <td>0.0</td>\n",
       "    </tr>\n",
       "    <tr>\n",
       "      <th>6</th>\n",
       "      <td>BIMBOA.MX</td>\n",
       "      <td>1.894952e+01</td>\n",
       "      <td>1.894952e+05</td>\n",
       "      <td>38.520000</td>\n",
       "      <td>4919.0</td>\n",
       "    </tr>\n",
       "    <tr>\n",
       "      <th>7</th>\n",
       "      <td>BOLSAA.MX</td>\n",
       "      <td>1.508864e+01</td>\n",
       "      <td>1.508864e+05</td>\n",
       "      <td>46.000000</td>\n",
       "      <td>3280.0</td>\n",
       "    </tr>\n",
       "    <tr>\n",
       "      <th>8</th>\n",
       "      <td>CEMEXCPO.MX</td>\n",
       "      <td>0.000000e+00</td>\n",
       "      <td>0.000000e+00</td>\n",
       "      <td>11.760000</td>\n",
       "      <td>0.0</td>\n",
       "    </tr>\n",
       "    <tr>\n",
       "      <th>9</th>\n",
       "      <td>CUERVO.MX</td>\n",
       "      <td>1.668986e-12</td>\n",
       "      <td>1.668986e-08</td>\n",
       "      <td>43.730000</td>\n",
       "      <td>0.0</td>\n",
       "    </tr>\n",
       "    <tr>\n",
       "      <th>10</th>\n",
       "      <td>ELEKTRA.MX</td>\n",
       "      <td>2.965352e+00</td>\n",
       "      <td>2.965352e+04</td>\n",
       "      <td>1386.010010</td>\n",
       "      <td>21.0</td>\n",
       "    </tr>\n",
       "    <tr>\n",
       "      <th>11</th>\n",
       "      <td>FEMSAUBD.MX</td>\n",
       "      <td>6.580959e-12</td>\n",
       "      <td>6.580959e-08</td>\n",
       "      <td>139.699997</td>\n",
       "      <td>0.0</td>\n",
       "    </tr>\n",
       "    <tr>\n",
       "      <th>12</th>\n",
       "      <td>GAPB.MX</td>\n",
       "      <td>2.852610e-11</td>\n",
       "      <td>2.852610e-07</td>\n",
       "      <td>206.600006</td>\n",
       "      <td>0.0</td>\n",
       "    </tr>\n",
       "    <tr>\n",
       "      <th>13</th>\n",
       "      <td>GCARSOA1.MX</td>\n",
       "      <td>5.441733e-12</td>\n",
       "      <td>5.441733e-08</td>\n",
       "      <td>51.590000</td>\n",
       "      <td>0.0</td>\n",
       "    </tr>\n",
       "    <tr>\n",
       "      <th>14</th>\n",
       "      <td>GFINBURO.MX</td>\n",
       "      <td>0.000000e+00</td>\n",
       "      <td>0.000000e+00</td>\n",
       "      <td>18.280001</td>\n",
       "      <td>0.0</td>\n",
       "    </tr>\n",
       "    <tr>\n",
       "      <th>15</th>\n",
       "      <td>GFNORTEO.MX</td>\n",
       "      <td>4.994184e-12</td>\n",
       "      <td>4.994184e-08</td>\n",
       "      <td>101.570000</td>\n",
       "      <td>0.0</td>\n",
       "    </tr>\n",
       "    <tr>\n",
       "      <th>16</th>\n",
       "      <td>GMEXICOB.MX</td>\n",
       "      <td>1.916956e-11</td>\n",
       "      <td>1.916956e-07</td>\n",
       "      <td>87.839996</td>\n",
       "      <td>0.0</td>\n",
       "    </tr>\n",
       "    <tr>\n",
       "      <th>17</th>\n",
       "      <td>GRUMAB.MX</td>\n",
       "      <td>4.050919e+00</td>\n",
       "      <td>4.050919e+04</td>\n",
       "      <td>225.059998</td>\n",
       "      <td>180.0</td>\n",
       "    </tr>\n",
       "    <tr>\n",
       "      <th>18</th>\n",
       "      <td>KIMBERA.MX</td>\n",
       "      <td>1.813817e-10</td>\n",
       "      <td>1.813817e-06</td>\n",
       "      <td>35.810001</td>\n",
       "      <td>0.0</td>\n",
       "    </tr>\n",
       "    <tr>\n",
       "      <th>19</th>\n",
       "      <td>KOFUBL.MX</td>\n",
       "      <td>0.000000e+00</td>\n",
       "      <td>0.000000e+00</td>\n",
       "      <td>88.919998</td>\n",
       "      <td>0.0</td>\n",
       "    </tr>\n",
       "    <tr>\n",
       "      <th>20</th>\n",
       "      <td>LABB.MX</td>\n",
       "      <td>2.237912e+01</td>\n",
       "      <td>2.237912e+05</td>\n",
       "      <td>20.990000</td>\n",
       "      <td>10662.0</td>\n",
       "    </tr>\n",
       "    <tr>\n",
       "      <th>21</th>\n",
       "      <td>LIVEPOLC-1.MX</td>\n",
       "      <td>0.000000e+00</td>\n",
       "      <td>0.000000e+00</td>\n",
       "      <td>65.510002</td>\n",
       "      <td>0.0</td>\n",
       "    </tr>\n",
       "    <tr>\n",
       "      <th>22</th>\n",
       "      <td>MEGACPO.MX</td>\n",
       "      <td>0.000000e+00</td>\n",
       "      <td>0.000000e+00</td>\n",
       "      <td>74.120003</td>\n",
       "      <td>0.0</td>\n",
       "    </tr>\n",
       "    <tr>\n",
       "      <th>23</th>\n",
       "      <td>OMAB.MX</td>\n",
       "      <td>8.669478e-12</td>\n",
       "      <td>8.669478e-08</td>\n",
       "      <td>120.989998</td>\n",
       "      <td>0.0</td>\n",
       "    </tr>\n",
       "    <tr>\n",
       "      <th>24</th>\n",
       "      <td>ORBIA.MX</td>\n",
       "      <td>0.000000e+00</td>\n",
       "      <td>0.000000e+00</td>\n",
       "      <td>44.180000</td>\n",
       "      <td>0.0</td>\n",
       "    </tr>\n",
       "    <tr>\n",
       "      <th>25</th>\n",
       "      <td>PE&amp;OLES.MX</td>\n",
       "      <td>7.263065e-02</td>\n",
       "      <td>7.263065e+02</td>\n",
       "      <td>306.750000</td>\n",
       "      <td>2.0</td>\n",
       "    </tr>\n",
       "    <tr>\n",
       "      <th>26</th>\n",
       "      <td>PINFRA.MX</td>\n",
       "      <td>1.533185e-11</td>\n",
       "      <td>1.533185e-07</td>\n",
       "      <td>154.059998</td>\n",
       "      <td>0.0</td>\n",
       "    </tr>\n",
       "    <tr>\n",
       "      <th>27</th>\n",
       "      <td>TLEVISACPO.MX</td>\n",
       "      <td>0.000000e+00</td>\n",
       "      <td>0.000000e+00</td>\n",
       "      <td>30.990000</td>\n",
       "      <td>0.0</td>\n",
       "    </tr>\n",
       "    <tr>\n",
       "      <th>28</th>\n",
       "      <td>WALMEX.MX</td>\n",
       "      <td>0.000000e+00</td>\n",
       "      <td>0.000000e+00</td>\n",
       "      <td>58.349998</td>\n",
       "      <td>0.0</td>\n",
       "    </tr>\n",
       "  </tbody>\n",
       "</table>\n",
       "</div>"
      ],
      "text/plain": [
       "            index        Pesos%       Postura       Precio  Titulos\n",
       "0           AC.MX  1.600622e+01  1.600622e+05    93.070000   1720.0\n",
       "1        ALFAA.MX  0.000000e+00  0.000000e+00    12.900000      0.0\n",
       "2        ALSEA.MX  0.000000e+00  0.000000e+00    23.110001      0.0\n",
       "3         AMXL.MX  2.048760e+01  2.048760e+05    13.670000  14987.0\n",
       "4        ASURB.MX  3.319315e-11  3.319315e-07   322.529999      0.0\n",
       "5      BBAJIOO.MX  0.000000e+00  0.000000e+00    24.760000      0.0\n",
       "6       BIMBOA.MX  1.894952e+01  1.894952e+05    38.520000   4919.0\n",
       "7       BOLSAA.MX  1.508864e+01  1.508864e+05    46.000000   3280.0\n",
       "8     CEMEXCPO.MX  0.000000e+00  0.000000e+00    11.760000      0.0\n",
       "9       CUERVO.MX  1.668986e-12  1.668986e-08    43.730000      0.0\n",
       "10     ELEKTRA.MX  2.965352e+00  2.965352e+04  1386.010010     21.0\n",
       "11    FEMSAUBD.MX  6.580959e-12  6.580959e-08   139.699997      0.0\n",
       "12        GAPB.MX  2.852610e-11  2.852610e-07   206.600006      0.0\n",
       "13    GCARSOA1.MX  5.441733e-12  5.441733e-08    51.590000      0.0\n",
       "14    GFINBURO.MX  0.000000e+00  0.000000e+00    18.280001      0.0\n",
       "15    GFNORTEO.MX  4.994184e-12  4.994184e-08   101.570000      0.0\n",
       "16    GMEXICOB.MX  1.916956e-11  1.916956e-07    87.839996      0.0\n",
       "17      GRUMAB.MX  4.050919e+00  4.050919e+04   225.059998    180.0\n",
       "18     KIMBERA.MX  1.813817e-10  1.813817e-06    35.810001      0.0\n",
       "19      KOFUBL.MX  0.000000e+00  0.000000e+00    88.919998      0.0\n",
       "20        LABB.MX  2.237912e+01  2.237912e+05    20.990000  10662.0\n",
       "21  LIVEPOLC-1.MX  0.000000e+00  0.000000e+00    65.510002      0.0\n",
       "22     MEGACPO.MX  0.000000e+00  0.000000e+00    74.120003      0.0\n",
       "23        OMAB.MX  8.669478e-12  8.669478e-08   120.989998      0.0\n",
       "24       ORBIA.MX  0.000000e+00  0.000000e+00    44.180000      0.0\n",
       "25     PE&OLES.MX  7.263065e-02  7.263065e+02   306.750000      2.0\n",
       "26      PINFRA.MX  1.533185e-11  1.533185e-07   154.059998      0.0\n",
       "27  TLEVISACPO.MX  0.000000e+00  0.000000e+00    30.990000      0.0\n",
       "28      WALMEX.MX  0.000000e+00  0.000000e+00    58.349998      0.0"
      ]
     },
     "execution_count": 20,
     "metadata": {},
     "output_type": "execute_result"
    }
   ],
   "source": [
    "dta.Peficiente"
   ]
  },
  {
   "cell_type": "markdown",
   "metadata": {},
   "source": [
    "### Operaciones\n",
    "\n",
    "A continuación se hizo una iteracion al mes, durante 2021-2022 en la que se estudiaba si los precios habian bajado más del 5% de su precio anterior se vendía el 2.5% de los titulos en esa acción , de haber tenido una alza del 5% en los precios, ocurría lo contrario y se adquirían 2.5% más de titulos.\n",
    "\n",
    "Titulos totales en la primera fila son la suma de los titulos en la tabla anterior, el cash_acum representa el capital disponible en ese momento siendo el primer monto de 970,000 descontando del capital inicial el 3% que representa los activos obviados, la comision acumulada al ser cada venta o compra una operación que nos cuesta cierta comisión esto se considera para restarselo al capital, y el rendimiento que es el cambio en capital que se tiene.\n",
    "\n",
    "Fuí iterando en una data *yeartwo* que tenia los precios historicos mensuales de 2021-2022 para cada activo si el dia siguiente era habia subido su precio 5% o más entonces se aumentaban 2.5% titulos, si habia bajado 5% o mas entonces se vendían 2.5% de los titulos, por cada mes que se hacía eso en todos los activos, se hacía una suma de todos los titulos que se resultaba tener por fecha y se depositaban en titulos totales, titulos_op representa la diferencia entre los titulos que se tienen en el mes presente y los que se tenian el mes anterior (cuando es negativo es que se vendieron esa cantidad de titulos y cuando es positivo es que se compraron esa cantidad de titulos). El cash_acum para cada mes fue calculado como la suma total de (el cash del mes anterior + (el precio al que cambió cada activo * los titulos nuevos de cada activo))."
   ]
  },
  {
   "cell_type": "code",
   "execution_count": 21,
   "metadata": {},
   "outputs": [
    {
     "data": {
      "text/html": [
       "<div>\n",
       "<style scoped>\n",
       "    .dataframe tbody tr th:only-of-type {\n",
       "        vertical-align: middle;\n",
       "    }\n",
       "\n",
       "    .dataframe tbody tr th {\n",
       "        vertical-align: top;\n",
       "    }\n",
       "\n",
       "    .dataframe thead th {\n",
       "        text-align: right;\n",
       "    }\n",
       "</style>\n",
       "<table border=\"1\" class=\"dataframe\">\n",
       "  <thead>\n",
       "    <tr style=\"text-align: right;\">\n",
       "      <th></th>\n",
       "      <th>timestamp</th>\n",
       "      <th>titulos_totales</th>\n",
       "      <th>titulos_op</th>\n",
       "      <th>cash_acum</th>\n",
       "      <th>comision_x_op</th>\n",
       "      <th>comision_acum</th>\n",
       "      <th>rend</th>\n",
       "      <th>rend_acum</th>\n",
       "    </tr>\n",
       "  </thead>\n",
       "  <tbody>\n",
       "    <tr>\n",
       "      <th>0</th>\n",
       "      <td>2021-01-29</td>\n",
       "      <td>34700.0</td>\n",
       "      <td>34700.0</td>\n",
       "      <td>970000.0</td>\n",
       "      <td>0.000</td>\n",
       "      <td>0.000</td>\n",
       "      <td>0.000000</td>\n",
       "      <td>0.000000</td>\n",
       "    </tr>\n",
       "    <tr>\n",
       "      <th>1</th>\n",
       "      <td>2021-02-26</td>\n",
       "      <td>35408.0</td>\n",
       "      <td>708.0</td>\n",
       "      <td>987236.037</td>\n",
       "      <td>1234.045</td>\n",
       "      <td>1234.045</td>\n",
       "      <td>0.017769</td>\n",
       "      <td>0.017769</td>\n",
       "    </tr>\n",
       "    <tr>\n",
       "      <th>2</th>\n",
       "      <td>2021-03-31</td>\n",
       "      <td>36293.0</td>\n",
       "      <td>885.0</td>\n",
       "      <td>1012463.644</td>\n",
       "      <td>1265.580</td>\n",
       "      <td>2499.625</td>\n",
       "      <td>0.025554</td>\n",
       "      <td>0.043323</td>\n",
       "    </tr>\n",
       "    <tr>\n",
       "      <th>3</th>\n",
       "      <td>2021-04-30</td>\n",
       "      <td>36941.0</td>\n",
       "      <td>648.0</td>\n",
       "      <td>1026447.264</td>\n",
       "      <td>1283.059</td>\n",
       "      <td>3782.684</td>\n",
       "      <td>0.013811</td>\n",
       "      <td>0.057134</td>\n",
       "    </tr>\n",
       "    <tr>\n",
       "      <th>4</th>\n",
       "      <td>2021-05-31</td>\n",
       "      <td>37864.0</td>\n",
       "      <td>923.0</td>\n",
       "      <td>1054343.183</td>\n",
       "      <td>1317.929</td>\n",
       "      <td>5100.613</td>\n",
       "      <td>0.027177</td>\n",
       "      <td>0.084312</td>\n",
       "    </tr>\n",
       "    <tr>\n",
       "      <th>5</th>\n",
       "      <td>2021-06-30</td>\n",
       "      <td>38811.0</td>\n",
       "      <td>947.0</td>\n",
       "      <td>1082664.286</td>\n",
       "      <td>1353.330</td>\n",
       "      <td>6453.943</td>\n",
       "      <td>0.026861</td>\n",
       "      <td>0.111173</td>\n",
       "    </tr>\n",
       "    <tr>\n",
       "      <th>6</th>\n",
       "      <td>2021-07-30</td>\n",
       "      <td>39025.0</td>\n",
       "      <td>214.0</td>\n",
       "      <td>1093947.621</td>\n",
       "      <td>1367.435</td>\n",
       "      <td>7821.378</td>\n",
       "      <td>0.010422</td>\n",
       "      <td>0.121595</td>\n",
       "    </tr>\n",
       "    <tr>\n",
       "      <th>7</th>\n",
       "      <td>2021-08-31</td>\n",
       "      <td>40001.0</td>\n",
       "      <td>976.0</td>\n",
       "      <td>1126334.415</td>\n",
       "      <td>1407.918</td>\n",
       "      <td>9229.296</td>\n",
       "      <td>0.029605</td>\n",
       "      <td>0.151200</td>\n",
       "    </tr>\n",
       "    <tr>\n",
       "      <th>8</th>\n",
       "      <td>2021-09-30</td>\n",
       "      <td>40136.0</td>\n",
       "      <td>135.0</td>\n",
       "      <td>1143775.547</td>\n",
       "      <td>1429.719</td>\n",
       "      <td>10659.015</td>\n",
       "      <td>0.015485</td>\n",
       "      <td>0.166685</td>\n",
       "    </tr>\n",
       "    <tr>\n",
       "      <th>9</th>\n",
       "      <td>2021-10-29</td>\n",
       "      <td>41140.0</td>\n",
       "      <td>1004.0</td>\n",
       "      <td>1177920.984</td>\n",
       "      <td>1472.401</td>\n",
       "      <td>12131.416</td>\n",
       "      <td>0.029853</td>\n",
       "      <td>0.196538</td>\n",
       "    </tr>\n",
       "    <tr>\n",
       "      <th>10</th>\n",
       "      <td>2021-11-30</td>\n",
       "      <td>41089.0</td>\n",
       "      <td>-51.0</td>\n",
       "      <td>1176569.061</td>\n",
       "      <td>1470.711</td>\n",
       "      <td>13602.127</td>\n",
       "      <td>-0.001148</td>\n",
       "      <td>0.195391</td>\n",
       "    </tr>\n",
       "    <tr>\n",
       "      <th>11</th>\n",
       "      <td>2021-12-31</td>\n",
       "      <td>42117.0</td>\n",
       "      <td>1028.0</td>\n",
       "      <td>1214057.217</td>\n",
       "      <td>1517.572</td>\n",
       "      <td>15119.699</td>\n",
       "      <td>0.031862</td>\n",
       "      <td>0.227253</td>\n",
       "    </tr>\n",
       "    <tr>\n",
       "      <th>12</th>\n",
       "      <td>2022-01-31</td>\n",
       "      <td>41972.0</td>\n",
       "      <td>-145.0</td>\n",
       "      <td>1211427.796</td>\n",
       "      <td>1514.285</td>\n",
       "      <td>16633.984</td>\n",
       "      <td>-0.002166</td>\n",
       "      <td>0.225087</td>\n",
       "    </tr>\n",
       "    <tr>\n",
       "      <th>13</th>\n",
       "      <td>2022-02-28</td>\n",
       "      <td>42392.0</td>\n",
       "      <td>420.0</td>\n",
       "      <td>1235962.434</td>\n",
       "      <td>1544.953</td>\n",
       "      <td>18178.937</td>\n",
       "      <td>0.020253</td>\n",
       "      <td>0.245340</td>\n",
       "    </tr>\n",
       "    <tr>\n",
       "      <th>14</th>\n",
       "      <td>2022-03-31</td>\n",
       "      <td>43440.0</td>\n",
       "      <td>1048.0</td>\n",
       "      <td>1271772.787</td>\n",
       "      <td>1589.716</td>\n",
       "      <td>19768.653</td>\n",
       "      <td>0.028974</td>\n",
       "      <td>0.274313</td>\n",
       "    </tr>\n",
       "    <tr>\n",
       "      <th>15</th>\n",
       "      <td>2022-04-29</td>\n",
       "      <td>43595.0</td>\n",
       "      <td>155.0</td>\n",
       "      <td>1290395.996</td>\n",
       "      <td>1612.995</td>\n",
       "      <td>21381.648</td>\n",
       "      <td>0.014644</td>\n",
       "      <td>0.288957</td>\n",
       "    </tr>\n",
       "    <tr>\n",
       "      <th>16</th>\n",
       "      <td>2022-05-31</td>\n",
       "      <td>43851.0</td>\n",
       "      <td>256.0</td>\n",
       "      <td>1308403.937</td>\n",
       "      <td>1635.505</td>\n",
       "      <td>23017.153</td>\n",
       "      <td>0.013955</td>\n",
       "      <td>0.302912</td>\n",
       "    </tr>\n",
       "    <tr>\n",
       "      <th>17</th>\n",
       "      <td>2022-06-30</td>\n",
       "      <td>44947.0</td>\n",
       "      <td>1096.0</td>\n",
       "      <td>1347870.31</td>\n",
       "      <td>1684.838</td>\n",
       "      <td>24701.991</td>\n",
       "      <td>0.030164</td>\n",
       "      <td>0.333076</td>\n",
       "    </tr>\n",
       "    <tr>\n",
       "      <th>18</th>\n",
       "      <td>2022-07-29</td>\n",
       "      <td>44474.0</td>\n",
       "      <td>-473.0</td>\n",
       "      <td>1358785.07</td>\n",
       "      <td>1698.481</td>\n",
       "      <td>26400.472</td>\n",
       "      <td>0.008098</td>\n",
       "      <td>0.341174</td>\n",
       "    </tr>\n",
       "  </tbody>\n",
       "</table>\n",
       "</div>"
      ],
      "text/plain": [
       "     timestamp titulos_totales titulos_op    cash_acum  comision_x_op  \\\n",
       "0   2021-01-29         34700.0    34700.0     970000.0          0.000   \n",
       "1   2021-02-26         35408.0      708.0   987236.037       1234.045   \n",
       "2   2021-03-31         36293.0      885.0  1012463.644       1265.580   \n",
       "3   2021-04-30         36941.0      648.0  1026447.264       1283.059   \n",
       "4   2021-05-31         37864.0      923.0  1054343.183       1317.929   \n",
       "5   2021-06-30         38811.0      947.0  1082664.286       1353.330   \n",
       "6   2021-07-30         39025.0      214.0  1093947.621       1367.435   \n",
       "7   2021-08-31         40001.0      976.0  1126334.415       1407.918   \n",
       "8   2021-09-30         40136.0      135.0  1143775.547       1429.719   \n",
       "9   2021-10-29         41140.0     1004.0  1177920.984       1472.401   \n",
       "10  2021-11-30         41089.0      -51.0  1176569.061       1470.711   \n",
       "11  2021-12-31         42117.0     1028.0  1214057.217       1517.572   \n",
       "12  2022-01-31         41972.0     -145.0  1211427.796       1514.285   \n",
       "13  2022-02-28         42392.0      420.0  1235962.434       1544.953   \n",
       "14  2022-03-31         43440.0     1048.0  1271772.787       1589.716   \n",
       "15  2022-04-29         43595.0      155.0  1290395.996       1612.995   \n",
       "16  2022-05-31         43851.0      256.0  1308403.937       1635.505   \n",
       "17  2022-06-30         44947.0     1096.0   1347870.31       1684.838   \n",
       "18  2022-07-29         44474.0     -473.0   1358785.07       1698.481   \n",
       "\n",
       "    comision_acum      rend  rend_acum  \n",
       "0           0.000  0.000000   0.000000  \n",
       "1        1234.045  0.017769   0.017769  \n",
       "2        2499.625  0.025554   0.043323  \n",
       "3        3782.684  0.013811   0.057134  \n",
       "4        5100.613  0.027177   0.084312  \n",
       "5        6453.943  0.026861   0.111173  \n",
       "6        7821.378  0.010422   0.121595  \n",
       "7        9229.296  0.029605   0.151200  \n",
       "8       10659.015  0.015485   0.166685  \n",
       "9       12131.416  0.029853   0.196538  \n",
       "10      13602.127 -0.001148   0.195391  \n",
       "11      15119.699  0.031862   0.227253  \n",
       "12      16633.984 -0.002166   0.225087  \n",
       "13      18178.937  0.020253   0.245340  \n",
       "14      19768.653  0.028974   0.274313  \n",
       "15      21381.648  0.014644   0.288957  \n",
       "16      23017.153  0.013955   0.302912  \n",
       "17      24701.991  0.030164   0.333076  \n",
       "18      26400.472  0.008098   0.341174  "
      ]
     },
     "execution_count": 21,
     "metadata": {},
     "output_type": "execute_result"
    }
   ],
   "source": [
    "dta.df_op"
   ]
  },
  {
   "cell_type": "markdown",
   "metadata": {},
   "source": [
    "Se puede observar que mayormente se consideraron compras para cada mes, es decir que los precios iban a la alza, ya que hubo solamente 3 meses en los que la cartera de titulos se redujo. Concluyendo el periodo de tenencia de este portafolio se finalizó con un cash, considerando comisiones, de:"
   ]
  },
  {
   "cell_type": "code",
   "execution_count": 22,
   "metadata": {},
   "outputs": [
    {
     "data": {
      "text/plain": [
       "'$1,332,384.60'"
      ]
     },
     "execution_count": 22,
     "metadata": {},
     "output_type": "execute_result"
    }
   ],
   "source": [
    "locale.currency(dta.casha, grouping=True )"
   ]
  },
  {
   "cell_type": "markdown",
   "metadata": {},
   "source": [
    "### Visualización de rendimientos\n",
    "\n",
    "Para observar mejor los rendimientos en el tiempo que se analizó 2021-2022, se muestra el siguiente plot:"
   ]
  },
  {
   "cell_type": "code",
   "execution_count": 23,
   "metadata": {},
   "outputs": [
    {
     "data": {
      "image/png": "[encoded data removed]",
      "text/plain": [
       "<Figure size 878.4x324 with 1 Axes>"
      ]
     },
     "metadata": {
      "needs_background": "light"
     },
     "output_type": "display_data"
    }
   ],
   "source": [
    "def rend_active(data):\n",
    "    ret=data.pct_change().dropna()\n",
    "    plt.figure(figsize=(12.2,4.5)) \n",
    "    for i in ret.columns.values:\n",
    "        plt.hist( ret[i],  label=i, bins = 22)\n",
    "    plt.title('Histograma de los retornos')\n",
    "    #plt.legend(ret.columns.values,loc='best')\n",
    "    plt.show()\n",
    "rend_plot=rend_active(dta.yeartwoplot)"
   ]
  },
  {
   "cell_type": "markdown",
   "metadata": {},
   "source": [
    "### Radio de Sharpe\n",
    "\n",
    "Para el cálculo del Radio se Sharpe me apoyé de una metodología vista en semestres pasados. Especificamente la clase Portafolios de Inversión, 5to semestre. el cual utiliza varianza, volatilidad media, rendimientos medios y pesos. El anterior calculo dio como resultado un RS de:"
   ]
  },
  {
   "cell_type": "code",
   "execution_count": 24,
   "metadata": {
    "scrolled": false
   },
   "outputs": [
    {
     "data": {
      "text/plain": [
       "3.609463981787008"
      ]
     },
     "execution_count": 24,
     "metadata": {},
     "output_type": "execute_result"
    }
   ],
   "source": [
    "dta.active_rs"
   ]
  },
  {
   "cell_type": "markdown",
   "metadata": {},
   "source": [
    "Calculandolo como (los rendimientos mensuales - tasa libre de riesgo considerada como 8.5% )/ volatilidad da un resultado de:"
   ]
  },
  {
   "cell_type": "code",
   "execution_count": 25,
   "metadata": {
    "scrolled": true
   },
   "outputs": [
    {
     "data": {
      "text/plain": [
       "-5.976801707123513"
      ]
     },
     "execution_count": 25,
     "metadata": {},
     "output_type": "execute_result"
    }
   ],
   "source": [
    "(dta.df_op.iloc[:,6].mean()-0.085)/dta.df_op.iloc[:,6].std()"
   ]
  },
  {
   "cell_type": "markdown",
   "metadata": {},
   "source": [
    "## <font color= #6B6B6B> 5.3 Conclusions on both Investments </font>"
   ]
  },
  {
   "cell_type": "markdown",
   "metadata": {},
   "source": [
    "Si bien los radios de sharpe para ambos tipos de inversión no era esperanzador, si vemos los capitales al final de cada una obtenermos que la inversión activa tuvo un mayor rendimiento:"
   ]
  },
  {
   "cell_type": "code",
   "execution_count": 26,
   "metadata": {},
   "outputs": [
    {
     "name": "stdout",
     "output_type": "stream",
     "text": [
      "Cash Pasiva: $1,065,000.14\n",
      "Cash Activa $1,332,384.60\n",
      "Diferencia en Cash $267,384.46\n"
     ]
    }
   ],
   "source": [
    "print ('Cash Pasiva:', locale.currency(dta.pasiva.iloc[-1,1], grouping=True))\n",
    "print ('Cash Activa',locale.currency(dta.casha, grouping=True ))\n",
    "print ('Diferencia en Cash',locale.currency(dta.casha-dta.pasiva.iloc[-1,1], grouping=True))"
   ]
  },
  {
   "cell_type": "markdown",
   "metadata": {},
   "source": [
    "<br>"
   ]
  },
  {
   "cell_type": "markdown",
   "metadata": {},
   "source": [
    "# <font color= #6B6B6B> <font size = 6> 6. References </font>"
   ]
  },
  {
   "cell_type": "markdown",
   "metadata": {},
   "source": [
    "<hr style=\"border:0.02in solid gray\"> </hr>"
   ]
  },
  {
   "cell_type": "markdown",
   "metadata": {},
   "source": [
    "> * Documentacion Python\n",
    "> * Documentos de Portafolios de inversión"
   ]
  },
  {
   "cell_type": "markdown",
   "metadata": {},
   "source": [
    "<br>"
   ]
  }
 ],
 "metadata": {
  "kernelspec": {
   "display_name": "Python 3",
   "language": "python",
   "name": "python3"
  },
  "language_info": {
   "codemirror_mode": {
    "name": "ipython",
    "version": 3
   },
   "file_extension": ".py",
   "mimetype": "text/x-python",
   "name": "python",
   "nbconvert_exporter": "python",
   "pygments_lexer": "ipython3",
   "version": "3.8.3"
  }
 },
 "nbformat": 4,
 "nbformat_minor": 4
}
